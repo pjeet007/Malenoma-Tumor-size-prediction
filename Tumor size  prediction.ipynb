{
 "cells": [
  {
   "cell_type": "code",
   "execution_count": 1,
   "metadata": {},
   "outputs": [],
   "source": [
    "import pandas as pd\n",
    "import numpy as np\n",
    "from matplotlib import pyplot as plt\n",
    "%matplotlib inline"
   ]
  },
  {
   "cell_type": "code",
   "execution_count": 2,
   "metadata": {},
   "outputs": [
    {
     "data": {
      "text/html": [
       "<div>\n",
       "<style scoped>\n",
       "    .dataframe tbody tr th:only-of-type {\n",
       "        vertical-align: middle;\n",
       "    }\n",
       "\n",
       "    .dataframe tbody tr th {\n",
       "        vertical-align: top;\n",
       "    }\n",
       "\n",
       "    .dataframe thead th {\n",
       "        text-align: right;\n",
       "    }\n",
       "</style>\n",
       "<table border=\"1\" class=\"dataframe\">\n",
       "  <thead>\n",
       "    <tr style=\"text-align: right;\">\n",
       "      <th></th>\n",
       "      <th>mass_npea</th>\n",
       "      <th>size_npear</th>\n",
       "      <th>malign_ratio</th>\n",
       "      <th>damage_size</th>\n",
       "      <th>exposed_area</th>\n",
       "      <th>std_dev_malign</th>\n",
       "      <th>err_malign</th>\n",
       "      <th>malign_penalty</th>\n",
       "      <th>damage_ratio</th>\n",
       "      <th>tumor_size</th>\n",
       "    </tr>\n",
       "  </thead>\n",
       "  <tbody>\n",
       "    <tr>\n",
       "      <th>0</th>\n",
       "      <td>6930.90</td>\n",
       "      <td>2919.02</td>\n",
       "      <td>0.42116</td>\n",
       "      <td>51.8298</td>\n",
       "      <td>988829.407</td>\n",
       "      <td>109.487</td>\n",
       "      <td>2758.76</td>\n",
       "      <td>72</td>\n",
       "      <td>39.3620</td>\n",
       "      <td>14.103</td>\n",
       "    </tr>\n",
       "    <tr>\n",
       "      <th>1</th>\n",
       "      <td>15635.70</td>\n",
       "      <td>4879.36</td>\n",
       "      <td>0.31206</td>\n",
       "      <td>223.5500</td>\n",
       "      <td>2058426.301</td>\n",
       "      <td>248.881</td>\n",
       "      <td>5952.53</td>\n",
       "      <td>240</td>\n",
       "      <td>22.0253</td>\n",
       "      <td>2.648</td>\n",
       "    </tr>\n",
       "    <tr>\n",
       "      <th>2</th>\n",
       "      <td>10376.20</td>\n",
       "      <td>2613.88</td>\n",
       "      <td>0.25191</td>\n",
       "      <td>127.3370</td>\n",
       "      <td>1434676.100</td>\n",
       "      <td>160.093</td>\n",
       "      <td>4635.26</td>\n",
       "      <td>73</td>\n",
       "      <td>29.9963</td>\n",
       "      <td>1.688</td>\n",
       "    </tr>\n",
       "    <tr>\n",
       "      <th>3</th>\n",
       "      <td>13093.80</td>\n",
       "      <td>4510.06</td>\n",
       "      <td>0.34444</td>\n",
       "      <td>155.4400</td>\n",
       "      <td>1812195.183</td>\n",
       "      <td>173.015</td>\n",
       "      <td>5273.87</td>\n",
       "      <td>32</td>\n",
       "      <td>28.1354</td>\n",
       "      <td>3.796</td>\n",
       "    </tr>\n",
       "    <tr>\n",
       "      <th>4</th>\n",
       "      <td>7545.21</td>\n",
       "      <td>2882.36</td>\n",
       "      <td>0.38201</td>\n",
       "      <td>85.1237</td>\n",
       "      <td>1043917.501</td>\n",
       "      <td>124.414</td>\n",
       "      <td>3263.35</td>\n",
       "      <td>57</td>\n",
       "      <td>35.0200</td>\n",
       "      <td>18.023</td>\n",
       "    </tr>\n",
       "  </tbody>\n",
       "</table>\n",
       "</div>"
      ],
      "text/plain": [
       "   mass_npea  size_npear  malign_ratio  damage_size  exposed_area  \\\n",
       "0    6930.90     2919.02       0.42116      51.8298    988829.407   \n",
       "1   15635.70     4879.36       0.31206     223.5500   2058426.301   \n",
       "2   10376.20     2613.88       0.25191     127.3370   1434676.100   \n",
       "3   13093.80     4510.06       0.34444     155.4400   1812195.183   \n",
       "4    7545.21     2882.36       0.38201      85.1237   1043917.501   \n",
       "\n",
       "   std_dev_malign  err_malign  malign_penalty  damage_ratio  tumor_size  \n",
       "0         109.487     2758.76              72       39.3620      14.103  \n",
       "1         248.881     5952.53             240       22.0253       2.648  \n",
       "2         160.093     4635.26              73       29.9963       1.688  \n",
       "3         173.015     5273.87              32       28.1354       3.796  \n",
       "4         124.414     3263.35              57       35.0200      18.023  "
      ]
     },
     "execution_count": 2,
     "metadata": {},
     "output_type": "execute_result"
    }
   ],
   "source": [
    "df=pd.read_csv(\"data.csv\")\n",
    "df.head()"
   ]
  },
  {
   "cell_type": "markdown",
   "metadata": {},
   "source": [
    "# checking correlation among data via spearman method\n"
   ]
  },
  {
   "cell_type": "code",
   "execution_count": 3,
   "metadata": {},
   "outputs": [
    {
     "data": {
      "text/html": [
       "<div>\n",
       "<style scoped>\n",
       "    .dataframe tbody tr th:only-of-type {\n",
       "        vertical-align: middle;\n",
       "    }\n",
       "\n",
       "    .dataframe tbody tr th {\n",
       "        vertical-align: top;\n",
       "    }\n",
       "\n",
       "    .dataframe thead th {\n",
       "        text-align: right;\n",
       "    }\n",
       "</style>\n",
       "<table border=\"1\" class=\"dataframe\">\n",
       "  <thead>\n",
       "    <tr style=\"text-align: right;\">\n",
       "      <th></th>\n",
       "      <th>mass_npea</th>\n",
       "      <th>size_npear</th>\n",
       "      <th>malign_ratio</th>\n",
       "      <th>damage_size</th>\n",
       "      <th>exposed_area</th>\n",
       "      <th>std_dev_malign</th>\n",
       "      <th>err_malign</th>\n",
       "      <th>malign_penalty</th>\n",
       "      <th>damage_ratio</th>\n",
       "      <th>tumor_size</th>\n",
       "    </tr>\n",
       "  </thead>\n",
       "  <tbody>\n",
       "    <tr>\n",
       "      <th>mass_npea</th>\n",
       "      <td>1.000000</td>\n",
       "      <td>0.892810</td>\n",
       "      <td>0.133690</td>\n",
       "      <td>0.936968</td>\n",
       "      <td>0.997746</td>\n",
       "      <td>0.963797</td>\n",
       "      <td>0.917341</td>\n",
       "      <td>0.598827</td>\n",
       "      <td>-0.921421</td>\n",
       "      <td>-0.002609</td>\n",
       "    </tr>\n",
       "    <tr>\n",
       "      <th>size_npear</th>\n",
       "      <td>0.892810</td>\n",
       "      <td>1.000000</td>\n",
       "      <td>0.537995</td>\n",
       "      <td>0.806091</td>\n",
       "      <td>0.888266</td>\n",
       "      <td>0.912545</td>\n",
       "      <td>0.813492</td>\n",
       "      <td>0.578232</td>\n",
       "      <td>-0.798627</td>\n",
       "      <td>0.168228</td>\n",
       "    </tr>\n",
       "    <tr>\n",
       "      <th>malign_ratio</th>\n",
       "      <td>0.133690</td>\n",
       "      <td>0.537995</td>\n",
       "      <td>1.000000</td>\n",
       "      <td>0.051301</td>\n",
       "      <td>0.128533</td>\n",
       "      <td>0.230716</td>\n",
       "      <td>0.111839</td>\n",
       "      <td>0.151674</td>\n",
       "      <td>-0.071514</td>\n",
       "      <td>0.388632</td>\n",
       "    </tr>\n",
       "    <tr>\n",
       "      <th>damage_size</th>\n",
       "      <td>0.936968</td>\n",
       "      <td>0.806091</td>\n",
       "      <td>0.051301</td>\n",
       "      <td>1.000000</td>\n",
       "      <td>0.932776</td>\n",
       "      <td>0.931758</td>\n",
       "      <td>0.865729</td>\n",
       "      <td>0.596413</td>\n",
       "      <td>-0.908593</td>\n",
       "      <td>-0.143517</td>\n",
       "    </tr>\n",
       "    <tr>\n",
       "      <th>exposed_area</th>\n",
       "      <td>0.997746</td>\n",
       "      <td>0.888266</td>\n",
       "      <td>0.128533</td>\n",
       "      <td>0.932776</td>\n",
       "      <td>1.000000</td>\n",
       "      <td>0.956061</td>\n",
       "      <td>0.914678</td>\n",
       "      <td>0.592997</td>\n",
       "      <td>-0.919831</td>\n",
       "      <td>-0.005347</td>\n",
       "    </tr>\n",
       "    <tr>\n",
       "      <th>std_dev_malign</th>\n",
       "      <td>0.963797</td>\n",
       "      <td>0.912545</td>\n",
       "      <td>0.230716</td>\n",
       "      <td>0.931758</td>\n",
       "      <td>0.956061</td>\n",
       "      <td>1.000000</td>\n",
       "      <td>0.888715</td>\n",
       "      <td>0.616670</td>\n",
       "      <td>-0.899064</td>\n",
       "      <td>-0.019928</td>\n",
       "    </tr>\n",
       "    <tr>\n",
       "      <th>err_malign</th>\n",
       "      <td>0.917341</td>\n",
       "      <td>0.813492</td>\n",
       "      <td>0.111839</td>\n",
       "      <td>0.865729</td>\n",
       "      <td>0.914678</td>\n",
       "      <td>0.888715</td>\n",
       "      <td>1.000000</td>\n",
       "      <td>0.579461</td>\n",
       "      <td>-0.916093</td>\n",
       "      <td>-0.019077</td>\n",
       "    </tr>\n",
       "    <tr>\n",
       "      <th>malign_penalty</th>\n",
       "      <td>0.598827</td>\n",
       "      <td>0.578232</td>\n",
       "      <td>0.151674</td>\n",
       "      <td>0.596413</td>\n",
       "      <td>0.592997</td>\n",
       "      <td>0.616670</td>\n",
       "      <td>0.579461</td>\n",
       "      <td>1.000000</td>\n",
       "      <td>-0.596784</td>\n",
       "      <td>0.089120</td>\n",
       "    </tr>\n",
       "    <tr>\n",
       "      <th>damage_ratio</th>\n",
       "      <td>-0.921421</td>\n",
       "      <td>-0.798627</td>\n",
       "      <td>-0.071514</td>\n",
       "      <td>-0.908593</td>\n",
       "      <td>-0.919831</td>\n",
       "      <td>-0.899064</td>\n",
       "      <td>-0.916093</td>\n",
       "      <td>-0.596784</td>\n",
       "      <td>1.000000</td>\n",
       "      <td>0.057911</td>\n",
       "    </tr>\n",
       "    <tr>\n",
       "      <th>tumor_size</th>\n",
       "      <td>-0.002609</td>\n",
       "      <td>0.168228</td>\n",
       "      <td>0.388632</td>\n",
       "      <td>-0.143517</td>\n",
       "      <td>-0.005347</td>\n",
       "      <td>-0.019928</td>\n",
       "      <td>-0.019077</td>\n",
       "      <td>0.089120</td>\n",
       "      <td>0.057911</td>\n",
       "      <td>1.000000</td>\n",
       "    </tr>\n",
       "  </tbody>\n",
       "</table>\n",
       "</div>"
      ],
      "text/plain": [
       "                mass_npea  size_npear  malign_ratio  damage_size  \\\n",
       "mass_npea        1.000000    0.892810      0.133690     0.936968   \n",
       "size_npear       0.892810    1.000000      0.537995     0.806091   \n",
       "malign_ratio     0.133690    0.537995      1.000000     0.051301   \n",
       "damage_size      0.936968    0.806091      0.051301     1.000000   \n",
       "exposed_area     0.997746    0.888266      0.128533     0.932776   \n",
       "std_dev_malign   0.963797    0.912545      0.230716     0.931758   \n",
       "err_malign       0.917341    0.813492      0.111839     0.865729   \n",
       "malign_penalty   0.598827    0.578232      0.151674     0.596413   \n",
       "damage_ratio    -0.921421   -0.798627     -0.071514    -0.908593   \n",
       "tumor_size      -0.002609    0.168228      0.388632    -0.143517   \n",
       "\n",
       "                exposed_area  std_dev_malign  err_malign  malign_penalty  \\\n",
       "mass_npea           0.997746        0.963797    0.917341        0.598827   \n",
       "size_npear          0.888266        0.912545    0.813492        0.578232   \n",
       "malign_ratio        0.128533        0.230716    0.111839        0.151674   \n",
       "damage_size         0.932776        0.931758    0.865729        0.596413   \n",
       "exposed_area        1.000000        0.956061    0.914678        0.592997   \n",
       "std_dev_malign      0.956061        1.000000    0.888715        0.616670   \n",
       "err_malign          0.914678        0.888715    1.000000        0.579461   \n",
       "malign_penalty      0.592997        0.616670    0.579461        1.000000   \n",
       "damage_ratio       -0.919831       -0.899064   -0.916093       -0.596784   \n",
       "tumor_size         -0.005347       -0.019928   -0.019077        0.089120   \n",
       "\n",
       "                damage_ratio  tumor_size  \n",
       "mass_npea          -0.921421   -0.002609  \n",
       "size_npear         -0.798627    0.168228  \n",
       "malign_ratio       -0.071514    0.388632  \n",
       "damage_size        -0.908593   -0.143517  \n",
       "exposed_area       -0.919831   -0.005347  \n",
       "std_dev_malign     -0.899064   -0.019928  \n",
       "err_malign         -0.916093   -0.019077  \n",
       "malign_penalty     -0.596784    0.089120  \n",
       "damage_ratio        1.000000    0.057911  \n",
       "tumor_size          0.057911    1.000000  "
      ]
     },
     "execution_count": 3,
     "metadata": {},
     "output_type": "execute_result"
    }
   ],
   "source": [
    "df.corr(method='spearman')"
   ]
  },
  {
   "cell_type": "markdown",
   "metadata": {},
   "source": [
    "Findings mass_npea and exposed_area  then std_dev_malign and damage_size are higly correlated(Descending order)"
   ]
  },
  {
   "cell_type": "code",
   "execution_count": 4,
   "metadata": {},
   "outputs": [
    {
     "data": {
      "text/html": [
       "<div>\n",
       "<style scoped>\n",
       "    .dataframe tbody tr th:only-of-type {\n",
       "        vertical-align: middle;\n",
       "    }\n",
       "\n",
       "    .dataframe tbody tr th {\n",
       "        vertical-align: top;\n",
       "    }\n",
       "\n",
       "    .dataframe thead th {\n",
       "        text-align: right;\n",
       "    }\n",
       "</style>\n",
       "<table border=\"1\" class=\"dataframe\">\n",
       "  <thead>\n",
       "    <tr style=\"text-align: right;\">\n",
       "      <th></th>\n",
       "      <th>mass_npea</th>\n",
       "      <th>size_npear</th>\n",
       "      <th>malign_ratio</th>\n",
       "      <th>damage_size</th>\n",
       "      <th>exposed_area</th>\n",
       "      <th>std_dev_malign</th>\n",
       "      <th>err_malign</th>\n",
       "      <th>malign_penalty</th>\n",
       "      <th>damage_ratio</th>\n",
       "      <th>tumor_size</th>\n",
       "    </tr>\n",
       "  </thead>\n",
       "  <tbody>\n",
       "    <tr>\n",
       "      <th>count</th>\n",
       "      <td>9146.000000</td>\n",
       "      <td>9146.000000</td>\n",
       "      <td>9146.000000</td>\n",
       "      <td>9146.000000</td>\n",
       "      <td>9.146000e+03</td>\n",
       "      <td>9146.000000</td>\n",
       "      <td>9146.000000</td>\n",
       "      <td>9146.000000</td>\n",
       "      <td>9146.000000</td>\n",
       "      <td>9146.000000</td>\n",
       "    </tr>\n",
       "    <tr>\n",
       "      <th>mean</th>\n",
       "      <td>9903.052174</td>\n",
       "      <td>3032.827837</td>\n",
       "      <td>0.303083</td>\n",
       "      <td>103.902118</td>\n",
       "      <td>1.372442e+06</td>\n",
       "      <td>146.304239</td>\n",
       "      <td>3992.936256</td>\n",
       "      <td>69.849661</td>\n",
       "      <td>34.461652</td>\n",
       "      <td>7.723348</td>\n",
       "    </tr>\n",
       "    <tr>\n",
       "      <th>std</th>\n",
       "      <td>4060.577116</td>\n",
       "      <td>1462.334147</td>\n",
       "      <td>0.062533</td>\n",
       "      <td>55.456862</td>\n",
       "      <td>5.646773e+05</td>\n",
       "      <td>70.512177</td>\n",
       "      <td>1780.672859</td>\n",
       "      <td>55.785332</td>\n",
       "      <td>5.972808</td>\n",
       "      <td>6.086852</td>\n",
       "    </tr>\n",
       "    <tr>\n",
       "      <th>min</th>\n",
       "      <td>2864.760000</td>\n",
       "      <td>510.530000</td>\n",
       "      <td>0.114820</td>\n",
       "      <td>10.310100</td>\n",
       "      <td>3.878534e+05</td>\n",
       "      <td>31.970400</td>\n",
       "      <td>1089.190000</td>\n",
       "      <td>0.000000</td>\n",
       "      <td>15.228000</td>\n",
       "      <td>0.000000</td>\n",
       "    </tr>\n",
       "    <tr>\n",
       "      <th>25%</th>\n",
       "      <td>6988.420000</td>\n",
       "      <td>1983.657500</td>\n",
       "      <td>0.259053</td>\n",
       "      <td>64.012525</td>\n",
       "      <td>9.596873e+05</td>\n",
       "      <td>95.853900</td>\n",
       "      <td>3177.682500</td>\n",
       "      <td>31.000000</td>\n",
       "      <td>30.290225</td>\n",
       "      <td>2.320000</td>\n",
       "    </tr>\n",
       "    <tr>\n",
       "      <th>50%</th>\n",
       "      <td>8895.965000</td>\n",
       "      <td>2684.330000</td>\n",
       "      <td>0.301055</td>\n",
       "      <td>88.458300</td>\n",
       "      <td>1.237057e+06</td>\n",
       "      <td>126.138500</td>\n",
       "      <td>3846.320000</td>\n",
       "      <td>54.000000</td>\n",
       "      <td>35.245750</td>\n",
       "      <td>5.060500</td>\n",
       "    </tr>\n",
       "    <tr>\n",
       "      <th>75%</th>\n",
       "      <td>12119.950000</td>\n",
       "      <td>3830.745000</td>\n",
       "      <td>0.343002</td>\n",
       "      <td>134.209000</td>\n",
       "      <td>1.693083e+06</td>\n",
       "      <td>182.251500</td>\n",
       "      <td>4664.577500</td>\n",
       "      <td>91.000000</td>\n",
       "      <td>38.806075</td>\n",
       "      <td>13.336000</td>\n",
       "    </tr>\n",
       "    <tr>\n",
       "      <th>max</th>\n",
       "      <td>36995.400000</td>\n",
       "      <td>13535.000000</td>\n",
       "      <td>0.525300</td>\n",
       "      <td>346.420000</td>\n",
       "      <td>4.978616e+06</td>\n",
       "      <td>528.890000</td>\n",
       "      <td>91983.700000</td>\n",
       "      <td>340.000000</td>\n",
       "      <td>46.546400</td>\n",
       "      <td>20.999000</td>\n",
       "    </tr>\n",
       "  </tbody>\n",
       "</table>\n",
       "</div>"
      ],
      "text/plain": [
       "          mass_npea    size_npear  malign_ratio  damage_size  exposed_area  \\\n",
       "count   9146.000000   9146.000000   9146.000000  9146.000000  9.146000e+03   \n",
       "mean    9903.052174   3032.827837      0.303083   103.902118  1.372442e+06   \n",
       "std     4060.577116   1462.334147      0.062533    55.456862  5.646773e+05   \n",
       "min     2864.760000    510.530000      0.114820    10.310100  3.878534e+05   \n",
       "25%     6988.420000   1983.657500      0.259053    64.012525  9.596873e+05   \n",
       "50%     8895.965000   2684.330000      0.301055    88.458300  1.237057e+06   \n",
       "75%    12119.950000   3830.745000      0.343002   134.209000  1.693083e+06   \n",
       "max    36995.400000  13535.000000      0.525300   346.420000  4.978616e+06   \n",
       "\n",
       "       std_dev_malign    err_malign  malign_penalty  damage_ratio   tumor_size  \n",
       "count     9146.000000   9146.000000     9146.000000   9146.000000  9146.000000  \n",
       "mean       146.304239   3992.936256       69.849661     34.461652     7.723348  \n",
       "std         70.512177   1780.672859       55.785332      5.972808     6.086852  \n",
       "min         31.970400   1089.190000        0.000000     15.228000     0.000000  \n",
       "25%         95.853900   3177.682500       31.000000     30.290225     2.320000  \n",
       "50%        126.138500   3846.320000       54.000000     35.245750     5.060500  \n",
       "75%        182.251500   4664.577500       91.000000     38.806075    13.336000  \n",
       "max        528.890000  91983.700000      340.000000     46.546400    20.999000  "
      ]
     },
     "execution_count": 4,
     "metadata": {},
     "output_type": "execute_result"
    }
   ],
   "source": [
    "df.describe()"
   ]
  },
  {
   "cell_type": "markdown",
   "metadata": {},
   "source": [
    "Values are not normalize so it need to be normalize for good regression model\n",
    "So Normalizing entire dataFrame except out-put column i.e. turmor_size"
   ]
  },
  {
   "cell_type": "code",
   "execution_count": 3,
   "metadata": {},
   "outputs": [],
   "source": [
    "def normalize(dataset):\n",
    "    Normdata=((dataset-dataset.min())/(dataset.max()-dataset.min()))*20\n",
    "    Normdata[\"tumor_size\"]=dataset[\"tumor_size\"]\n",
    "    return Normdata"
   ]
  },
  {
   "cell_type": "code",
   "execution_count": 4,
   "metadata": {},
   "outputs": [
    {
     "data": {
      "text/html": [
       "<div>\n",
       "<style scoped>\n",
       "    .dataframe tbody tr th:only-of-type {\n",
       "        vertical-align: middle;\n",
       "    }\n",
       "\n",
       "    .dataframe tbody tr th {\n",
       "        vertical-align: top;\n",
       "    }\n",
       "\n",
       "    .dataframe thead th {\n",
       "        text-align: right;\n",
       "    }\n",
       "</style>\n",
       "<table border=\"1\" class=\"dataframe\">\n",
       "  <thead>\n",
       "    <tr style=\"text-align: right;\">\n",
       "      <th></th>\n",
       "      <th>mass_npea</th>\n",
       "      <th>size_npear</th>\n",
       "      <th>malign_ratio</th>\n",
       "      <th>damage_size</th>\n",
       "      <th>exposed_area</th>\n",
       "      <th>std_dev_malign</th>\n",
       "      <th>err_malign</th>\n",
       "      <th>malign_penalty</th>\n",
       "      <th>damage_ratio</th>\n",
       "      <th>tumor_size</th>\n",
       "    </tr>\n",
       "  </thead>\n",
       "  <tbody>\n",
       "    <tr>\n",
       "      <th>0</th>\n",
       "      <td>2.382692</td>\n",
       "      <td>3.698408</td>\n",
       "      <td>14.925940</td>\n",
       "      <td>2.470603</td>\n",
       "      <td>2.618197</td>\n",
       "      <td>3.119885</td>\n",
       "      <td>0.367364</td>\n",
       "      <td>4.235294</td>\n",
       "      <td>15.412026</td>\n",
       "      <td>14.103</td>\n",
       "    </tr>\n",
       "    <tr>\n",
       "      <th>1</th>\n",
       "      <td>7.483563</td>\n",
       "      <td>6.708649</td>\n",
       "      <td>9.610212</td>\n",
       "      <td>12.688701</td>\n",
       "      <td>7.277975</td>\n",
       "      <td>8.730209</td>\n",
       "      <td>1.070106</td>\n",
       "      <td>14.117647</td>\n",
       "      <td>4.340771</td>\n",
       "      <td>2.648</td>\n",
       "    </tr>\n",
       "    <tr>\n",
       "      <th>2</th>\n",
       "      <td>4.401582</td>\n",
       "      <td>3.229844</td>\n",
       "      <td>6.679497</td>\n",
       "      <td>6.963609</td>\n",
       "      <td>4.560561</td>\n",
       "      <td>5.156673</td>\n",
       "      <td>0.780261</td>\n",
       "      <td>4.294118</td>\n",
       "      <td>9.431069</td>\n",
       "      <td>1.688</td>\n",
       "    </tr>\n",
       "    <tr>\n",
       "      <th>3</th>\n",
       "      <td>5.994051</td>\n",
       "      <td>6.141563</td>\n",
       "      <td>11.187878</td>\n",
       "      <td>8.635860</td>\n",
       "      <td>6.205251</td>\n",
       "      <td>5.676757</td>\n",
       "      <td>0.920777</td>\n",
       "      <td>1.882353</td>\n",
       "      <td>8.242694</td>\n",
       "      <td>3.796</td>\n",
       "    </tr>\n",
       "    <tr>\n",
       "      <th>4</th>\n",
       "      <td>2.742668</td>\n",
       "      <td>3.642114</td>\n",
       "      <td>13.018417</td>\n",
       "      <td>4.451734</td>\n",
       "      <td>2.858192</td>\n",
       "      <td>3.720666</td>\n",
       "      <td>0.478392</td>\n",
       "      <td>3.352941</td>\n",
       "      <td>12.639215</td>\n",
       "      <td>18.023</td>\n",
       "    </tr>\n",
       "  </tbody>\n",
       "</table>\n",
       "</div>"
      ],
      "text/plain": [
       "   mass_npea  size_npear  malign_ratio  damage_size  exposed_area  \\\n",
       "0   2.382692    3.698408     14.925940     2.470603      2.618197   \n",
       "1   7.483563    6.708649      9.610212    12.688701      7.277975   \n",
       "2   4.401582    3.229844      6.679497     6.963609      4.560561   \n",
       "3   5.994051    6.141563     11.187878     8.635860      6.205251   \n",
       "4   2.742668    3.642114     13.018417     4.451734      2.858192   \n",
       "\n",
       "   std_dev_malign  err_malign  malign_penalty  damage_ratio  tumor_size  \n",
       "0        3.119885    0.367364        4.235294     15.412026      14.103  \n",
       "1        8.730209    1.070106       14.117647      4.340771       2.648  \n",
       "2        5.156673    0.780261        4.294118      9.431069       1.688  \n",
       "3        5.676757    0.920777        1.882353      8.242694       3.796  \n",
       "4        3.720666    0.478392        3.352941     12.639215      18.023  "
      ]
     },
     "execution_count": 4,
     "metadata": {},
     "output_type": "execute_result"
    }
   ],
   "source": [
    "dfn=normalize(df)\n",
    "dfn.head()"
   ]
  },
  {
   "cell_type": "markdown",
   "metadata": {},
   "source": [
    "# Dropping mass_npea column "
   ]
  },
  {
   "cell_type": "code",
   "execution_count": 5,
   "metadata": {},
   "outputs": [
    {
     "data": {
      "text/html": [
       "<div>\n",
       "<style scoped>\n",
       "    .dataframe tbody tr th:only-of-type {\n",
       "        vertical-align: middle;\n",
       "    }\n",
       "\n",
       "    .dataframe tbody tr th {\n",
       "        vertical-align: top;\n",
       "    }\n",
       "\n",
       "    .dataframe thead th {\n",
       "        text-align: right;\n",
       "    }\n",
       "</style>\n",
       "<table border=\"1\" class=\"dataframe\">\n",
       "  <thead>\n",
       "    <tr style=\"text-align: right;\">\n",
       "      <th></th>\n",
       "      <th>size_npear</th>\n",
       "      <th>malign_ratio</th>\n",
       "      <th>damage_size</th>\n",
       "      <th>exposed_area</th>\n",
       "      <th>std_dev_malign</th>\n",
       "      <th>err_malign</th>\n",
       "      <th>malign_penalty</th>\n",
       "      <th>damage_ratio</th>\n",
       "      <th>tumor_size</th>\n",
       "    </tr>\n",
       "  </thead>\n",
       "  <tbody>\n",
       "    <tr>\n",
       "      <th>0</th>\n",
       "      <td>3.698408</td>\n",
       "      <td>14.925940</td>\n",
       "      <td>2.470603</td>\n",
       "      <td>2.618197</td>\n",
       "      <td>3.119885</td>\n",
       "      <td>0.367364</td>\n",
       "      <td>4.235294</td>\n",
       "      <td>15.412026</td>\n",
       "      <td>14.103</td>\n",
       "    </tr>\n",
       "    <tr>\n",
       "      <th>1</th>\n",
       "      <td>6.708649</td>\n",
       "      <td>9.610212</td>\n",
       "      <td>12.688701</td>\n",
       "      <td>7.277975</td>\n",
       "      <td>8.730209</td>\n",
       "      <td>1.070106</td>\n",
       "      <td>14.117647</td>\n",
       "      <td>4.340771</td>\n",
       "      <td>2.648</td>\n",
       "    </tr>\n",
       "    <tr>\n",
       "      <th>2</th>\n",
       "      <td>3.229844</td>\n",
       "      <td>6.679497</td>\n",
       "      <td>6.963609</td>\n",
       "      <td>4.560561</td>\n",
       "      <td>5.156673</td>\n",
       "      <td>0.780261</td>\n",
       "      <td>4.294118</td>\n",
       "      <td>9.431069</td>\n",
       "      <td>1.688</td>\n",
       "    </tr>\n",
       "    <tr>\n",
       "      <th>3</th>\n",
       "      <td>6.141563</td>\n",
       "      <td>11.187878</td>\n",
       "      <td>8.635860</td>\n",
       "      <td>6.205251</td>\n",
       "      <td>5.676757</td>\n",
       "      <td>0.920777</td>\n",
       "      <td>1.882353</td>\n",
       "      <td>8.242694</td>\n",
       "      <td>3.796</td>\n",
       "    </tr>\n",
       "    <tr>\n",
       "      <th>4</th>\n",
       "      <td>3.642114</td>\n",
       "      <td>13.018417</td>\n",
       "      <td>4.451734</td>\n",
       "      <td>2.858192</td>\n",
       "      <td>3.720666</td>\n",
       "      <td>0.478392</td>\n",
       "      <td>3.352941</td>\n",
       "      <td>12.639215</td>\n",
       "      <td>18.023</td>\n",
       "    </tr>\n",
       "  </tbody>\n",
       "</table>\n",
       "</div>"
      ],
      "text/plain": [
       "   size_npear  malign_ratio  damage_size  exposed_area  std_dev_malign  \\\n",
       "0    3.698408     14.925940     2.470603      2.618197        3.119885   \n",
       "1    6.708649      9.610212    12.688701      7.277975        8.730209   \n",
       "2    3.229844      6.679497     6.963609      4.560561        5.156673   \n",
       "3    6.141563     11.187878     8.635860      6.205251        5.676757   \n",
       "4    3.642114     13.018417     4.451734      2.858192        3.720666   \n",
       "\n",
       "   err_malign  malign_penalty  damage_ratio  tumor_size  \n",
       "0    0.367364        4.235294     15.412026      14.103  \n",
       "1    1.070106       14.117647      4.340771       2.648  \n",
       "2    0.780261        4.294118      9.431069       1.688  \n",
       "3    0.920777        1.882353      8.242694       3.796  \n",
       "4    0.478392        3.352941     12.639215      18.023  "
      ]
     },
     "execution_count": 5,
     "metadata": {},
     "output_type": "execute_result"
    }
   ],
   "source": [
    "df2=dfn.drop(['mass_npea'],axis=1)\n",
    "df2.head()"
   ]
  },
  {
   "cell_type": "code",
   "execution_count": 6,
   "metadata": {},
   "outputs": [],
   "source": [
    "X=df2.drop([\"tumor_size\"],axis=1)\n",
    "Y=df2.tumor_size"
   ]
  },
  {
   "cell_type": "code",
   "execution_count": 34,
   "metadata": {},
   "outputs": [
    {
     "data": {
      "text/plain": [
       "<matplotlib.collections.PathCollection at 0x2139c84c708>"
      ]
     },
     "execution_count": 34,
     "metadata": {},
     "output_type": "execute_result"
    },
    {
     "data": {
      "image/png": "[encoded data removed]",
      "text/plain": [
       "<Figure size 432x288 with 1 Axes>"
      ]
     },
     "metadata": {
      "needs_background": "light"
     },
     "output_type": "display_data"
    }
   ],
   "source": [
    "plt.scatter(df2.size_npear,Y)"
   ]
  },
  {
   "cell_type": "code",
   "execution_count": 35,
   "metadata": {},
   "outputs": [
    {
     "data": {
      "text/plain": [
       "<matplotlib.collections.PathCollection at 0x2139c8be7c8>"
      ]
     },
     "execution_count": 35,
     "metadata": {},
     "output_type": "execute_result"
    },
    {
     "data": {
      "image/png": "[encoded data removed]",
      "text/plain": [
       "<Figure size 432x288 with 1 Axes>"
      ]
     },
     "metadata": {
      "needs_background": "light"
     },
     "output_type": "display_data"
    }
   ],
   "source": [
    "plt.scatter(df2.malign_ratio,Y)"
   ]
  },
  {
   "cell_type": "code",
   "execution_count": 36,
   "metadata": {},
   "outputs": [
    {
     "data": {
      "text/plain": [
       "<matplotlib.collections.PathCollection at 0x2139c925c48>"
      ]
     },
     "execution_count": 36,
     "metadata": {},
     "output_type": "execute_result"
    },
    {
     "data": {
      "image/png": "[encoded data removed]",
      "text/plain": [
       "<Figure size 432x288 with 1 Axes>"
      ]
     },
     "metadata": {
      "needs_background": "light"
     },
     "output_type": "display_data"
    }
   ],
   "source": [
    "plt.scatter(df2.damage_size,Y)"
   ]
  },
  {
   "cell_type": "code",
   "execution_count": 37,
   "metadata": {},
   "outputs": [
    {
     "data": {
      "text/plain": [
       "<matplotlib.collections.PathCollection at 0x2139c98cc08>"
      ]
     },
     "execution_count": 37,
     "metadata": {},
     "output_type": "execute_result"
    },
    {
     "data": {
      "image/png": "[encoded data removed]",
      "text/plain": [
       "<Figure size 432x288 with 1 Axes>"
      ]
     },
     "metadata": {
      "needs_background": "light"
     },
     "output_type": "display_data"
    }
   ],
   "source": [
    "plt.scatter(df2.exposed_area,Y)"
   ]
  },
  {
   "cell_type": "code",
   "execution_count": 38,
   "metadata": {},
   "outputs": [
    {
     "data": {
      "text/plain": [
       "<matplotlib.collections.PathCollection at 0x2139c9f3b08>"
      ]
     },
     "execution_count": 38,
     "metadata": {},
     "output_type": "execute_result"
    },
    {
     "data": {
      "image/png": "[encoded data removed]",
      "text/plain": [
       "<Figure size 432x288 with 1 Axes>"
      ]
     },
     "metadata": {
      "needs_background": "light"
     },
     "output_type": "display_data"
    }
   ],
   "source": [
    "plt.scatter(df2.std_dev_malign,Y)"
   ]
  },
  {
   "cell_type": "code",
   "execution_count": 39,
   "metadata": {},
   "outputs": [
    {
     "data": {
      "text/plain": [
       "<matplotlib.collections.PathCollection at 0x2139ca56c48>"
      ]
     },
     "execution_count": 39,
     "metadata": {},
     "output_type": "execute_result"
    },
    {
     "data": {
      "image/png": "[encoded data removed]",
      "text/plain": [
       "<Figure size 432x288 with 1 Axes>"
      ]
     },
     "metadata": {
      "needs_background": "light"
     },
     "output_type": "display_data"
    }
   ],
   "source": [
    "plt.scatter(df2.damage_ratio,Y)"
   ]
  },
  {
   "cell_type": "code",
   "execution_count": 10,
   "metadata": {},
   "outputs": [],
   "source": [
    "from sklearn.model_selection import train_test_split"
   ]
  },
  {
   "cell_type": "code",
   "execution_count": 11,
   "metadata": {},
   "outputs": [],
   "source": [
    "X_train, X_test, Y_train, Y_test = train_test_split(X, Y, test_size=0.33)"
   ]
  },
  {
   "cell_type": "code",
   "execution_count": null,
   "metadata": {},
   "outputs": [],
   "source": []
  },
  {
   "cell_type": "markdown",
   "metadata": {},
   "source": [
    "# Testing different regression algorithm and checking their accuracy"
   ]
  },
  {
   "cell_type": "code",
   "execution_count": 8,
   "metadata": {},
   "outputs": [],
   "source": [
    "from sklearn.linear_model import LinearRegression\n",
    "Lreg=LinearRegression()"
   ]
  },
  {
   "cell_type": "code",
   "execution_count": 12,
   "metadata": {},
   "outputs": [
    {
     "data": {
      "text/plain": [
       "0.28277675576268724"
      ]
     },
     "execution_count": 12,
     "metadata": {},
     "output_type": "execute_result"
    }
   ],
   "source": [
    "Lreg.fit(X_train,Y_train)\n",
    "Lreg.score(X_train,Y_train)"
   ]
  },
  {
   "cell_type": "code",
   "execution_count": 13,
   "metadata": {},
   "outputs": [],
   "source": [
    "Y_pred=Lreg.predict(X_test)"
   ]
  },
  {
   "cell_type": "code",
   "execution_count": 19,
   "metadata": {},
   "outputs": [
    {
     "data": {
      "text/plain": [
       "1.0"
      ]
     },
     "execution_count": 19,
     "metadata": {},
     "output_type": "execute_result"
    }
   ],
   "source": [
    "Lreg.score(X_test,Y_pred)"
   ]
  },
  {
   "cell_type": "code",
   "execution_count": 21,
   "metadata": {},
   "outputs": [
    {
     "data": {
      "text/plain": [
       "<matplotlib.collections.PathCollection at 0x23adc1e7bc8>"
      ]
     },
     "execution_count": 21,
     "metadata": {},
     "output_type": "execute_result"
    },
    {
     "data": {
      "image/png": "[encoded data removed]",
      "text/plain": [
       "<Figure size 432x288 with 1 Axes>"
      ]
     },
     "metadata": {
      "needs_background": "light"
     },
     "output_type": "display_data"
    }
   ],
   "source": [
    "plt.scatter(Y_test,Y_pred)"
   ]
  },
  {
   "cell_type": "code",
   "execution_count": 23,
   "metadata": {},
   "outputs": [],
   "source": [
    "from sklearn.inspection import permutation_importance\n",
    "from sklearn.metrics import mean_squared_error"
   ]
  },
  {
   "cell_type": "code",
   "execution_count": 40,
   "metadata": {},
   "outputs": [
    {
     "data": {
      "text/plain": [
       "5.177738769838433"
      ]
     },
     "execution_count": 40,
     "metadata": {},
     "output_type": "execute_result"
    }
   ],
   "source": [
    "np.sqrt(mean_squared_error(Y_test, Y_pred))"
   ]
  },
  {
   "cell_type": "markdown",
   "metadata": {},
   "source": [
    "#one can see Linear regression in this case have high bias and have high variance"
   ]
  },
  {
   "cell_type": "code",
   "execution_count": 34,
   "metadata": {},
   "outputs": [],
   "source": [
    "from sklearn.ensemble import RandomForestRegressor\n",
    "RFR = RandomForestRegressor(max_depth=2, random_state=0)"
   ]
  },
  {
   "cell_type": "code",
   "execution_count": 35,
   "metadata": {},
   "outputs": [
    {
     "data": {
      "text/plain": [
       "0.1838003895288356"
      ]
     },
     "execution_count": 35,
     "metadata": {},
     "output_type": "execute_result"
    }
   ],
   "source": [
    "RFR.fit(X_train,Y_train)\n",
    "RFR.score(X_train,Y_train)"
   ]
  },
  {
   "cell_type": "code",
   "execution_count": 39,
   "metadata": {},
   "outputs": [
    {
     "data": {
      "text/plain": [
       "5.604209853062652"
      ]
     },
     "execution_count": 39,
     "metadata": {},
     "output_type": "execute_result"
    }
   ],
   "source": [
    "Y_predrf=RFR.predict(X_test)\n",
    "np.sqrt(mean_squared_error(Y_test, Y_predrf))"
   ]
  },
  {
   "cell_type": "code",
   "execution_count": 7,
   "metadata": {},
   "outputs": [],
   "source": [
    "import xgboost as xgb"
   ]
  },
  {
   "cell_type": "code",
   "execution_count": 30,
   "metadata": {},
   "outputs": [],
   "source": [
    "xg_reg = xgb.XGBRegressor( colsample_bytree = 0.3, learning_rate = 0.1,max_depth = 5, alpha = 10, n_estimators = 10)"
   ]
  },
  {
   "cell_type": "code",
   "execution_count": 31,
   "metadata": {},
   "outputs": [
    {
     "name": "stdout",
     "output_type": "stream",
     "text": [
      "[15:39:22] WARNING: src/objective/regression_obj.cu:152: reg:linear is now deprecated in favor of reg:squarederror.\n"
     ]
    }
   ],
   "source": [
    "xg_reg.fit(X_train,Y_train)\n",
    "Y_predxgb = xg_reg.predict(X_test)"
   ]
  },
  {
   "cell_type": "code",
   "execution_count": 43,
   "metadata": {},
   "outputs": [
    {
     "name": "stdout",
     "output_type": "stream",
     "text": [
      "RMSE: 6.216380\n"
     ]
    }
   ],
   "source": [
    "rmsexgb=np.sqrt(mean_squared_error(Y_test, Y_predxgb))\n",
    "print(\"RMSE: %f\" % (rmsexgb))"
   ]
  },
  {
   "cell_type": "code",
   "execution_count": null,
   "metadata": {},
   "outputs": [],
   "source": []
  }
 ],
 "metadata": {
  "kernelspec": {
   "display_name": "Python 3",
   "language": "python",
   "name": "python3"
  },
  "language_info": {
   "codemirror_mode": {
    "name": "ipython",
    "version": 3
   },
   "file_extension": ".py",
   "mimetype": "text/x-python",
   "name": "python",
   "nbconvert_exporter": "python",
   "pygments_lexer": "ipython3",
   "version": "3.7.6"
  }
 },
 "nbformat": 4,
 "nbformat_minor": 4
}
